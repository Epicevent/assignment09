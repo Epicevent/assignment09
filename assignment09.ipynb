{
 "cells": [
  {
   "cell_type": "markdown",
   "metadata": {},
   "source": [
    "# Assignment 9\n",
    "## name : rocky kim \n",
    "## student id : 20152424\n",
    "## github link :[https://github.com/Epicevent/assignment09](https://github.com/Epicevent/assignment09 ) "
   ]
  },
  {
   "cell_type": "markdown",
   "metadata": {},
   "source": [
    "# get training data via given code"
   ]
  },
  {
   "cell_type": "code",
   "execution_count": 1,
   "metadata": {},
   "outputs": [
    {
     "name": "stdout",
     "output_type": "stream",
     "text": [
      "(784,)\n",
      "(60000,)\n"
     ]
    }
   ],
   "source": [
    "import matplotlib.pyplot as plt\n",
    "import numpy as np\n",
    "from numpy.linalg import inv\n",
    "file_data_train = \"mnist_train.csv\"\n",
    "file_data_test  = \"mnist_test.csv\"\n",
    "\n",
    "h_data_train    = open(file_data_train, \"r\")\n",
    "h_data_test     = open(file_data_test, \"r\")\n",
    "\n",
    "data_train      = h_data_train.readlines()\n",
    "data_test       = h_data_test.readlines()\n",
    "\n",
    "h_data_train.close()\n",
    "h_data_test.close()\n",
    "\n",
    "size_row    = 28    # height of the image\n",
    "size_col    = 28    # width of the image\n",
    "\n",
    "num_train   = len(data_train)   # number of training images\n",
    "num_test    = len(data_test)    # number of testing images\n",
    "\n",
    "#\n",
    "# normalize the values of the input data to be [0, 1]\n",
    "#\n",
    "def normalize(data):\n",
    "\n",
    "    data_normalized = (data - min(data)) / (max(data) - min(data))\n",
    "\n",
    "    return(data_normalized)\n",
    "\n",
    "#\n",
    "# example of distance function between two vectors x and y\n",
    "#\n",
    "def distance(x, y):\n",
    "\n",
    "    d = (x - y) ** 2\n",
    "    s = np.sum(d)\n",
    "    # r = np.sqrt(s)\n",
    "\n",
    "    return(s)\n",
    "\n",
    "#\n",
    "# make a matrix each column of which represents an images in a vector form \n",
    "#\n",
    "list_image_train    = np.empty((size_row * size_col, num_train), dtype=float)\n",
    "list_label_train    = np.empty(num_train, dtype=int)\n",
    "\n",
    "list_image_test     = np.empty((size_row * size_col, num_test), dtype=float)\n",
    "list_label_test     = np.empty(num_test, dtype=int)\n",
    "\n",
    "count = 0\n",
    "\n",
    "for line in data_train:\n",
    "\n",
    "    line_data   = line.split(',')\n",
    "    label       = line_data[0]\n",
    "    im_vector   = np.asfarray(line_data[1:])\n",
    "    im_vector   = normalize(im_vector)\n",
    "\n",
    "    list_label_train[count]     = label\n",
    "    list_image_train[:, count]  = im_vector    \n",
    "\n",
    "    count += 1\n",
    "print (np.shape(list_image_train[:,0]))\n",
    "print (np.shape(list_label_train))\n",
    "count = 0\n",
    "\n",
    "for line in data_test:\n",
    "\n",
    "    line_data   = line.split(',')\n",
    "    label       = line_data[0]\n",
    "    im_vector   = np.asfarray(line_data[1:])\n",
    "    im_vector   = normalize(im_vector)\n",
    "\n",
    "    list_label_test[count]      = label\n",
    "    list_image_test[:, count]   = im_vector    \n",
    "\n",
    "    count += 1\n",
    "\n"
   ]
  },
  {
   "cell_type": "markdown",
   "metadata": {},
   "source": [
    "# model for binary classfier\n",
    "\n",
    "\n",
    "\n",
    " feature funtion for a image\n",
    "\n",
    "\n",
    " def>  $\\mathbb{M}$ : set of  M images\n",
    " \n",
    " \n",
    " $$ \n",
    " \\mathbb{M} = \\{m_1 , m_2 , \\cdots , m_M \\}\n",
    " $$ \n",
    " \n",
    "\n"
   ]
  },
  {
   "cell_type": "markdown",
   "metadata": {},
   "source": [
    "# random vector drawn from a normal distribution\n",
    "\n",
    " $$\n",
    " r_i  \\sim \\mathcal{N}(\\mu,\\,\\sigma^{2})\\ \n",
    " $$\n",
    " \n",
    " \n",
    " $$\n",
    " r_i \\in \\mathbb{R}^{784}\n",
    " $$\n",
    " \n",
    "  \n",
    " $$\n",
    " (\\mu,\\,\\sigma^{2}) = (0, 1)\n",
    " $$"
   ]
  },
  {
   "cell_type": "code",
   "execution_count": 2,
   "metadata": {},
   "outputs": [],
   "source": [
    "def make_random_vector(numfeature): # input must be np.array :dtype int\n",
    "    r =  np.empty((numfeature,size_row * size_col), dtype=float)\n",
    "    mu, sigma = 0, 1 # mean and standard deviation\n",
    "    for i in range(numfeature):\n",
    "        r[i,:] = np.random.normal(mu, sigma, size_row * size_col)#r_i^T \n",
    "    return r,numfeature"
   ]
  },
  {
   "cell_type": "markdown",
   "metadata": {},
   "source": [
    "\n",
    "#  Domain and codomain of feature function \n",
    "\n",
    "\n",
    "let number of feature is p\n",
    "\n",
    "\n",
    "$$ \n",
    "f :  \\mathbb{M} \\to \\mathbb{R}^{p}   \n",
    "$$\n",
    "\n"
   ]
  },
  {
   "cell_type": "markdown",
   "metadata": {},
   "source": [
    "\n",
    "# definition of feature function for training\n",
    "\n",
    "\n",
    "let $$ x \\in M $$ be a vector that represent an image of the size 28 × 28 \n",
    "\n",
    "\n",
    "$$   \n",
    "x = (x_1 ,x_2 , \\cdots , x_{784})   \n",
    "$$\n",
    "\n",
    "\n",
    "$$ \n",
    "f(x) = (f_0(x), \\cdots , f_{p-1}(x) ) \n",
    "$$\n",
    "\n",
    "\n",
    "$$ \n",
    "f_i : \\mathbb{R}^{784} \\to \\mathbb{R} \n",
    "$$\n",
    "\n",
    "\n",
    "$$\n",
    "f_i(x) = r_i^T x \n",
    "$$"
   ]
  },
  {
   "cell_type": "code",
   "execution_count": 3,
   "metadata": {},
   "outputs": [],
   "source": [
    "def feature(i,r, image):\n",
    "    '''\n",
    "       i : feature index 0~ p-1\n",
    "       r : np.array shape : ( p, 784) \n",
    "       image : np.array shape : ( 784 , )\n",
    "       return \\sum{k=0}^783 {r[i,k]*image[k]}\n",
    "    '''\n",
    "    return np.dot(r[i,:],image)"
   ]
  },
  {
   "cell_type": "markdown",
   "metadata": {},
   "source": [
    "# Model parameter and model for getting partitioning function"
   ]
  },
  {
   "cell_type": "markdown",
   "metadata": {},
   "source": [
    "# definition of colunm vector \n",
    "\n",
    "\n",
    "\n",
    "\n",
    "$$\n",
    "     a_j=\n",
    "  \\left[ {\\begin{array}{ccccc}\n",
    "   f_j(m_1) \\\\\n",
    "   f_j(m_2) \\\\\n",
    "   \\vdots \\\\\n",
    "   f_j(m_M) \n",
    "  \\end{array}}  \\right]\n",
    "$$\n",
    "\n"
   ]
  },
  {
   "cell_type": "markdown",
   "metadata": {},
   "source": [
    "\n",
    "# definition of image feature Matrix A\n",
    "\n",
    "where p is number of feature \n",
    "\n",
    "$$\n",
    "   A=\n",
    "  \\left[ {\\begin{array}{ccccc}\n",
    "   a_0 & a_1 & \\dots & a_{p-1} \n",
    "  \\end{array} } \\right]\n",
    "$$\n",
    "  \n",
    " \n"
   ]
  },
  {
   "cell_type": "markdown",
   "metadata": {},
   "source": [
    "# definition of label vector b for least square\n",
    "\n",
    "\n",
    "$$\n",
    " y_i={\\begin{cases}\n",
    "    1, & \\text{if } m_i \\text{ is image of digit '0' }.\\\\\n",
    "   -1, & \\text{otherwise}.\n",
    "\\end{cases}}\n",
    "$$\n",
    "\n",
    "\n",
    "$$\n",
    "b=  \\left[ {\\begin{array}{ccccc}\n",
    "y_1 \\\\\n",
    " y_2 \\\\\n",
    "   \\vdots \\\\\n",
    "   y_N \n",
    "  \\end{array} } \\right]\n",
    "$$"
   ]
  },
  {
   "cell_type": "code",
   "execution_count": 4,
   "metadata": {},
   "outputs": [],
   "source": [
    "def makeA( imagelist,r,num_feature ): \n",
    "    '''\n",
    "        imagelist : np.array with shape (784, 60000)\n",
    "        return . transeposed array with shape (60000,  num of feature)\n",
    "    '''\n",
    "    Arows = np.shape(imagelist)[1]  # since A's shape is ( shape(imagelist.T) )\n",
    "    Acols = num_feature\n",
    "    A = np.empty((Arows , Acols), dtype=float)\n",
    "    for i in range( Arows ):\n",
    "        for j in range(Acols):\n",
    "                A[i,j] = feature(j ,r,imagelist[:,i]) \n",
    "    return A\n",
    "\n",
    "\n",
    "def makeb (labellist):\n",
    "    '''\n",
    "        labellist : np.array with shape (60000,)\n",
    "        return :column vector with shape (1,60000) and value in {1, -1}\n",
    "    '''\n",
    "    numdata = np.shape(labellist)[0]\n",
    "    b = labellist.reshape((numdata, 1))\n",
    "    condlist = [b==0, b!=0]\n",
    "    choicelist = [1, -1]\n",
    "    return np.select(condlist, choicelist)\n"
   ]
  },
  {
   "cell_type": "markdown",
   "metadata": {},
   "source": [
    "# model parameter \n",
    "\n",
    "${\\theta} \\in {\\mathbb{R}^{N}}$ denotes model parameter\n",
    "\n",
    "\n",
    "$N (= p )$ is number of feature \n",
    "\n",
    "$$\n",
    "\\theta =  \\left[ {\\begin{array}{ccccc}\n",
    "  \\theta_1 \\\\\n",
    "  \\theta_2 \\\\  \n",
    "  \\vdots \\\\\n",
    "  \\theta_N\n",
    "  \\end{array} } \\right] \n",
    "$$\n",
    "\n"
   ]
  },
  {
   "cell_type": "markdown",
   "metadata": {},
   "source": [
    "# the least square problem \n",
    "   \n",
    "   find $\\theta$ that minimize \n",
    "\n",
    "$$ \n",
    "\\| A\\theta - b   \\|^2 = \\sum_{j=1}^{n}{r_j^2} \\quad where, \\quad r_j = y_j -\\tilde{f}(x_j)\n",
    "$$\n"
   ]
  },
  {
   "cell_type": "markdown",
   "metadata": {},
   "source": [
    "# QR decomposition of A\n",
    "More generally, we can factor a complex $m \\times n$ matrix $A$, with $m≥n$, as the product of an $m\\times m$ unitary matrix $Q$ and an $m\\times n$ upper triangular matrix $R$.  As the bottom ($m − n$) rows of an $m\\times n$ upper triangular matrix consist entirely of zeroes, it is often useful to partition $R$, or both $R$ and $Q$:\n",
    "$$\n",
    "  A = QR = Q \\begin{bmatrix} R_1 \\\\ 0 \\end{bmatrix}\n",
    "    = \\begin{bmatrix} Q_1, Q_2 \\end{bmatrix} \\begin{bmatrix} R_1 \\\\ 0 \\end{bmatrix}\n",
    "    = Q_1 R_1,\n",
    "$$\n",
    "\n",
    "\n"
   ]
  },
  {
   "cell_type": "markdown",
   "metadata": {},
   "source": [
    "# the solution $\\theta$ Satisfies below equations\n",
    "\n",
    "\n",
    "$$(A^T A)\n",
    "   \\left[ {\\begin{array}{ccccc}\n",
    "   \\theta_1 \\\\\n",
    "   \\theta_2 \\\\\n",
    "   \\vdots \\\\\n",
    "   \\theta_N\n",
    "  \\end{array} } \\right]=A^Tb  \n",
    "$$\n",
    "\n",
    "\n",
    "$$\n",
    "\\iff \n",
    "(R_1^T R_1) \\left[ {\\begin{array}{ccccc}\n",
    "   \\theta_1 \\\\\n",
    "   \\theta_2 \\\\\n",
    "   \\vdots \\\\\n",
    "   \\theta_N\n",
    "  \\end{array} } \\right] = A^Tb = R_1^{T}Q_1^Tb\n",
    "$$\n",
    "\n",
    "\n",
    "# let $\\text{R}= R_1$ , compute $\\text{R}^T \\text{R}$\n",
    "\n",
    "\n",
    "let $r_i$ is row vector($\\in \\mathbb{R}^{784}$) of matrix $\\text{R}$ \n",
    "\n",
    "\n",
    "$$\\text{R} = \\left[ {\\begin{array}{ccccc}\n",
    "   r_1 \\\\\n",
    "   r_2 \\\\\n",
    "   \\vdots \\\\\n",
    "   r_N\n",
    "  \\end{array} } \\right]\n",
    "$$\n",
    " \n",
    " \n",
    "$$\\text{R}^T \\text{R} = \n",
    "   r_1^T r_1 + r_2^T r_2 + \\cdots + r_N^T r_N \n",
    "$$\n",
    "\n",
    "\n",
    "$$\n",
    "\\text{R}^T \\text{R} \\theta  = r_1^T r_1 \\theta + r_2^T r_2 \\theta + \\cdots + r_N^T r_N  \\theta\n",
    "$$\n",
    "\n",
    "\n",
    "$$\n",
    "\\text{R}^T  q  = r_1^T  q + r_2^T  q + \\cdots + r_N^T q\n",
    "$$\n",
    "\n",
    "\n",
    "# the least square solution theta statisfy\n",
    "\n",
    "\n",
    "$$\n",
    "\\sum_{i=1}^{N}\\sum_{k\\geq i}{(R_{i,k})r_k\\theta} =\\sum_{i=1}^{N} \\sum_{k\\geq i}{R_{i,k}q_{k}} \n",
    "$$\n",
    "\n",
    "\n",
    "# solve the problem\n",
    "\n",
    "suppose we have \n",
    "\n",
    "$$\\theta_{l+1},\\cdots,\\theta_N$$ \n",
    "\n",
    "that satisfies\n",
    "\n",
    "\n",
    "$$\\forall i \\geq l+1$$\n",
    "\n",
    "\n",
    "$$\n",
    "\\sum_{k\\geq i}{(R_{i,k})r_k\\theta} = \\sum_{k\\geq i}{R_{i,k}q_{k}} \n",
    "$$\n",
    "\n",
    "\n",
    "then We define $\\Theta_l$ as\n",
    "\n",
    "if $\\text{R}_{l,l}\\neq 0$\n",
    "    \n",
    "    \n",
    "$$\n",
    "\\Theta_l = (q_{l} - \\sum_{ l \\lt i \\leq N }R_{l,i}\\theta_N)/R_{l,l}\n",
    "$$\n",
    "\n",
    "\n",
    "else (in this case $\\text{R}_{l,l} = 0$ )\n",
    "\n",
    "\n",
    "$$\n",
    "\\Theta_l = 0 \n",
    "$$\n",
    "\n",
    "\n",
    "then we can pick  \n",
    "$$ \\theta_l = \\Theta_l$$ \n",
    "\n",
    "\n",
    "finally we get\n",
    "\n",
    "\n",
    "$$\\theta_l,\\cdots,\\theta_N$$\n",
    "\n",
    "\n",
    "that satisfies \n",
    "\n",
    "\n",
    "$$\\forall i \\geq l$$\n",
    "\n",
    "\n",
    "$$\n",
    "\\sum_{k\\geq i}{(R_{i,k})r_k\\theta} = \\sum_{k\\geq i}{R_{i,k}q_{k}} \n",
    "$$"
   ]
  },
  {
   "cell_type": "markdown",
   "metadata": {},
   "source": [
    "# Back substitution to solve the problem\n",
    "\n",
    "\n",
    "let \n",
    "\n",
    "\n",
    "$$\\text{R}_{ij} = R_1(i,j)$$   \n",
    "\n",
    "\n",
    "let\n",
    "\n",
    "\n",
    "$$Q_1^Tb = q =\\left[ {\\begin{array}{ccccc}\n",
    "   q_1 \\\\\n",
    "   q_2 \\\\\n",
    "   \\vdots \\\\\n",
    "   q_N\n",
    "  \\end{array} } \\right]$$ \n",
    " \n",
    " \n",
    "write\n",
    "\n",
    "$$\n",
    "( R_1) \\left[ {\\begin{array}{ccccc}\n",
    "   \\theta_1 \\\\\n",
    "   \\theta_2 \\\\\n",
    "   \\vdots \\\\\n",
    "   \\theta_N\n",
    "  \\end{array} } \\right] = \\left[ {\\begin{array}{ccccc}\n",
    "   q_1 \\\\\n",
    "   q_2 \\\\\n",
    "   \\vdots \\\\\n",
    "   q_N\n",
    "  \\end{array} } \\right] \n",
    "$$ as\n",
    "\n",
    "\n",
    "$$\n",
    "\\begin{aligned}\n",
    "   \\text{R}_{11} \\theta_{1} +\\text{R}_{12} \\theta_{2}+ \\cdots + \n",
    "   \\text{R}_{1,N-1}\\theta_{N-1} + \\text{R}_{1N}\\theta_{N}  &= q_1 \\\\\n",
    "   \\vdots \\\\\n",
    "   \\text{R}_{N-1,N-1} \\theta_{N-1} + \\text{R}_{N-1,N}\\theta_{N}&= q_{N-1}\\\\\n",
    "   \\text{R}_{N,N}\\theta_{N}&= q_{N}\n",
    "\\end{aligned}\n",
    "$$"
   ]
  },
  {
   "cell_type": "markdown",
   "metadata": {},
   "source": [
    "\n",
    "\n",
    "# get sudo solution of Back substitution\n",
    "\n",
    "\n",
    "Of course, this equation may not have solution\n",
    "\n",
    "\n",
    "( if some digonal element is zero )\n",
    "\n",
    "\n",
    "but the equation implies the equation of least square plobrem .\n",
    "\n",
    "\n",
    "from last equation we get \n",
    "\n",
    "\n",
    "$$  \n",
    "  \\theta_N=\\begin{cases}\n",
    "    q_{N}/R_{NN} & \\text{if $R_{NN} \\neq 0$ }.\\\\\n",
    "    0 & \\text{if $R_{NN}=0$ }.\n",
    "  \\end{cases}\n",
    "$$\n",
    "\n",
    "\n",
    "I from 2nd to last equation we get\n",
    "\n",
    "\n",
    "$$\n",
    "  \\theta_{N-1}=\\begin{cases}\n",
    "    (q_{N-1} - R_{N-1,N}\\theta_N)/R_{N-1,N-1} & \\text{if $R_{N-1,N-1} \\neq 0$ }.\\\\\n",
    "    0 & \\text{if $R_{N-1,N-1}=0$ }.\n",
    "  \\end{cases}\n",
    "$$\n",
    "\n",
    "\n",
    "\n",
    "I continue to get $\\theta_{N-2},\\theta_{N-3},\\cdots,\\theta_{1}$ \n",
    "\n",
    "\n",
    "# then this $\\theta$ satisfy the least square problem\n",
    "\n",
    "\n",
    "-"
   ]
  },
  {
   "cell_type": "code",
   "execution_count": 5,
   "metadata": {},
   "outputs": [],
   "source": [
    "def solve_model_parameter(A,b):\n",
    "    if  np.shape(b)[0] !=1:\n",
    "        numdata = np.shape(b)[0]\n",
    "        b = b.reshape((numdata, 1))\n",
    "    numfeature = np.shape(A)[1]\n",
    "    Q ,R = np.linalg.qr(A)\n",
    "    q =np.matmul(Q.T, b)\n",
    "    theta_vector = np.zeros((numfeature,1),dtype=float)\n",
    "    for i in range(numfeature):\n",
    "        n = numfeature - i # 1<=n <= numfeature (decreasing)\n",
    "        if R[n-1,n-1] == 0 : # R_(n,n)\n",
    "            theta_vector[n-1,0] = 0 # theta_vector_(n,1)\n",
    "        else:\n",
    "            rthetasum =0 \n",
    "            for j in range (numfeature-n):\n",
    "                l = numfeature- j # 1<= l <=N ( decreasing )\n",
    "                rthetasum += R[n -1 ,l-1]*theta_vector[l-1,0]\n",
    "            theta_vector[n-1,0] = (q[n-1,0] - rthetasum)/R[n-1,n-1]\n",
    "    return theta_vector\n",
    "\n"
   ]
  },
  {
   "cell_type": "markdown",
   "metadata": {},
   "source": [
    "# Try with varying the number of parameters p with thestandard deviation σ = 1 of the random feature vector r : 1,2, ... 32768 "
   ]
  },
  {
   "cell_type": "code",
   "execution_count": 6,
   "metadata": {},
   "outputs": [],
   "source": [
    "r_field,r_max = make_random_vector(32768)\n",
    "def getr(p_ndarray):\n",
    "    len_r_list = np.shape(p_ndarray)[0]\n",
    "    r_list = []\n",
    "    index_for_access_r_field = 0\n",
    "    ind = index_for_access_r_field \n",
    "    for p in p_ndarray:\n",
    "        p = int(p)\n",
    "        if ind+p<len_r_list:\n",
    "            nind =ind + p\n",
    "        else:\n",
    "            ind = 0\n",
    "            nind = p\n",
    "        r_list.append(r_field[ind:ind+p,:]) # reuse aleady initialized data\n",
    "        ind=nind\n",
    "    return r_list,p_ndarray   "
   ]
  },
  {
   "cell_type": "code",
   "execution_count": 7,
   "metadata": {},
   "outputs": [],
   "source": [
    "def train_with_varying_p_to_get_bestF1score( training_function ): #training_function int \\to float and it is havvy       \n",
    "    num_piece =10\n",
    "    s_point = 0\n",
    "    e_point = num_piece # the e_point is ommited ! \n",
    "    bestTP = np.zeros(10000,dtype=bool) \n",
    "    bestTF = np.zeros(10000,dtype=bool) \n",
    "    bestFP = np.zeros(10000,dtype=bool) \n",
    "    bestFN = np.zeros(10000,dtype=bool) \n",
    "    for level in range(4):\n",
    "        level = np.float(level)\n",
    "        x = range(s_point,e_point)\n",
    "        prev_s_point = s_point\n",
    "        friction_of_power = np.power(num_piece,(-level))\n",
    "        x_exp =[  np.power(2,(friction_of_power*i)) for i in x ] \n",
    "        x_caculate =np.array(x_exp,dtype = int) \n",
    "        list_targetset = f(x_caculate)\n",
    "        y = list_targetset[4] \n",
    "        prev_index = np.argmax(y) \n",
    "        if type(list_targetset[0][prev_index]) is np.ndarray:\n",
    "            bestTP = ( list_targetset[0][prev_index])\n",
    "            bestTF = (list_targetset[1][prev_index])\n",
    "            bestFP = (list_targetset[2][prev_index])\n",
    "            bestFN = (list_targetset[3][prev_index])\n",
    "        bestF1score = float(y[prev_index])\n",
    "        bestP = x_caculate[prev_index]\n",
    "        x_plot = x\n",
    "        plt.subplot(2, 2, level+1)\n",
    "        plt.title(\"level=\"+str(int(level))+ \":f(2^(\"+\"{:.2f}\".format(friction_of_power)+\")*x)\" )\n",
    "        plt.plot(x_plot,y)\n",
    "        frame   = plt.gca()\n",
    "        frame.axes.get_xaxis().set_visible(False)\n",
    "        frame.axes.get_yaxis().set_visible(False)\n",
    "        \n",
    "        s_point= int(num_piece*(prev_s_point+prev_index-0.5))\n",
    "        e_point = int(num_piece*(prev_s_point+prev_index+0.5))\n",
    "        \n",
    "    return bestTP,bestTF,bestFP,bestFN,bestF1score,bestP\n",
    "    "
   ]
  },
  {
   "cell_type": "code",
   "execution_count": 8,
   "metadata": {},
   "outputs": [
    {
     "name": "stdout",
     "output_type": "stream",
     "text": [
      "thegraph is -x^2 + 800x\n",
      "peak value is 160000.00 at x= 400\n"
     ]
    },
    {
     "data": {
      "image/png": "[encoded data removed]",
      "text/plain": [
       "<Figure size 432x288 with 4 Axes>"
      ]
     },
     "metadata": {
      "needs_background": "light"
     },
     "output_type": "display_data"
    }
   ],
   "source": [
    "# test code for varify above code\n",
    "f = (lambda x : (x*0,x*0,x*0,x*0,-np.power(x,2) + 800*x ))\n",
    "tp,tf,fp,fn,f1,p =train_with_varying_p_to_get_bestF1score(f)\n",
    "print(\"thegraph is -x^2 + 800x\")\n",
    "print(\"peak value is {:.2f} at x= {:d}\".format(f1,p))\n",
    "\n",
    "plt.show()"
   ]
  },
  {
   "cell_type": "markdown",
   "metadata": {},
   "source": [
    "# The partitioning function\n",
    "\n",
    "$$\\tilde{f} : \\mathbb{R}^{ 784}\\to \\mathbb{R}$$ \n",
    "\n",
    "is defined by \n",
    "inner product of feature and model parameter\n",
    "\n",
    "\n",
    "$$\n",
    "   \\tilde{f}(x; \\theta) =  \\langle \\theta,f(x)\\rangle \n",
    "$$\n",
    "\n",
    "\n",
    "$$\n",
    "   \\tilde{f}(x; \\theta) = \\theta_1f_1(x) +\\theta_2f_2(x) + \\cdots +\\theta_{p}f_{p}(x)\n",
    "$$\n",
    "\n",
    "$$\n",
    "    A \\theta = \n",
    "   \\left[ {\\begin{array}{ccccc}\n",
    "  \\tilde{f}(x_1) \\\\\n",
    "   \\tilde{f}(x_2) \\\\  \n",
    "  \\vdots \\\\\n",
    "    \\tilde{f}(x_N)\n",
    "  \\end{array} } \\right]\n",
    "$$"
   ]
  },
  {
   "cell_type": "markdown",
   "metadata": {},
   "source": [
    "# binary classifier f(x) \n",
    "\n",
    "$$f(x) = sign( \\tilde{f}(x))$$ \n",
    "\n",
    "\n",
    "using the sign function:\n",
    "\n",
    "\n",
    "$$\n",
    "  sign(x)=\\begin{cases}\n",
    "    +1 & \\text{ if  $ (x)>0 $ }.\\\\\n",
    "    -1 & \\text{if  $ (x)<0 $ }.\n",
    "  \\end{cases}\n",
    "$$"
   ]
  },
  {
   "cell_type": "code",
   "execution_count": 9,
   "metadata": {},
   "outputs": [],
   "source": [
    "def imagetraining_and_caculateresult(r,numfeature):\n",
    "    A_train = makeA (list_image_train,r,numfeature)\n",
    "    b_train = makeb (list_label_train)\n",
    "    model_parameter =solve_model_parameter(A_train,b_train)\n",
    "    A_test = makeA (list_image_test,r,numfeature)\n",
    "    b_test = makeb (list_label_test)\n",
    "    partitioning_vec = np.matmul(A_test,model_parameter) # test input partition \n",
    "    # : if x < 0 return 1 else return 1\n",
    "    partitioning_vec [ partitioning_vec == 0 ]  = 1 \n",
    "    classifier_vec = np.sign(partitioning_vec)\n",
    "    return classifier_vec ,b_test"
   ]
  },
  {
   "cell_type": "markdown",
   "metadata": {},
   "source": [
    "# F1 score \n",
    "\n",
    "$$ \n",
    "    F_1 = \\left(\\frac{\\mathrm{recall}^{-1} + \\mathrm{precision}^{-1}}{2}\\right)^{-1} = 2 \\cdot \\frac{\\mathrm{precision} \\cdot \\mathrm{recall}}{\\mathrm{precision} + \\mathrm{recall}}\n",
    "$$\n",
    "\n",
    "\n",
    "$$\n",
    "\\text{Precision}=\\frac{TP}{TP+FP} \n",
    "$$\n",
    "\n",
    "\n",
    "$$\n",
    "\\text{Recall}=\\frac{TP}{TP+FN}  \n",
    "$$\n",
    "\n",
    "\n",
    "\n",
    "$$\n",
    "\\therefore F_1 = (\\frac{\\frac{TP+FP}{TP} + \\frac{TP+FN}{TP}}{2})^{-1} = (\\frac{2TP+FP+FN}{2TP})^{-1} =\\frac{2TP}{2TP+FP+FN}\n",
    "$$"
   ]
  },
  {
   "cell_type": "code",
   "execution_count": 10,
   "metadata": {},
   "outputs": [],
   "source": [
    "def caculateF1score(classifier_vec , b_test):\n",
    "    true = (classifier_vec == b_test) # true\n",
    "    false = ~true #false \n",
    "    def positive(true_or_false,classifier_vec):\n",
    "        return (true_or_false[:,0] & (classifier_vec == 1.0)[:,0])\n",
    "    def negative(true_or_false,classifier_vec):\n",
    "        return (true_or_false[:,0] & (classifier_vec == -1.0)[:,0])\n",
    "    F_1score = 2 # In all cases, this value never exceeds 1.\n",
    "                # Therefore, if 2 is returned, you can see that there was an error.\n",
    "    TP = positive(true,classifier_vec)\n",
    "    TN = negative(true,classifier_vec)\n",
    "    FP = positive(false,classifier_vec)\n",
    "    FN = negative(false,classifier_vec) \n",
    "    if 2*np.sum(TP) + np.sum(FP) + np.sum(FN) !=0:\n",
    "        F_1score =  2*np.sum(TP) /( 2*np.sum(TP) + np.sum(FP) +np.sum (FN))\n",
    "    else:\n",
    "        F_1score = 0\n",
    "    \n",
    "    return TP,TN,FP,FN,F_1score "
   ]
  },
  {
   "cell_type": "markdown",
   "metadata": {},
   "source": [
    "# define functions for caculateF1score among varing p "
   ]
  },
  {
   "cell_type": "code",
   "execution_count": 11,
   "metadata": {},
   "outputs": [],
   "source": [
    "def  caculateF1score_among_varing_p(r_list,ndarray_p):\n",
    "    len_r_list = len(r_list)\n",
    "    ret_list = list()\n",
    "    for i in range(4):\n",
    "        ret_list.append(np.zeros((len_r_list,num_test),dtype=bool))# TP,TN,FP,FN\n",
    "    ret_f1score=np.zeros(len_r_list,dtype=float)\n",
    "    ret_list.append(ret_f1score)\n",
    "    for i in range(len_r_list):\n",
    "        r= r_list[i]\n",
    "        numfeature = ndarray_p[i]\n",
    "        classifier_vec , b_test = imagetraining_and_caculateresult(r,numfeature)\n",
    "        reti= caculateF1score(classifier_vec , b_test)\n",
    "        print(reti[4] )# after 40 times printing the training function with varing p is finished\n",
    "        ret_list[0][i,:]= reti[0]\n",
    "        ret_list[1][i,:]=reti[1]\n",
    "        ret_list[2][i,:]=reti[2]\n",
    "        ret_list[3][i,:]=reti[3]\n",
    "        ret_list[4][i]=reti[4] \n",
    "    return ret_list"
   ]
  },
  {
   "cell_type": "markdown",
   "metadata": {},
   "source": [
    "# Present the best F1 score among the results with different number of parameters p = 1,2, ...,1024\n",
    "\n",
    "warning : following code is very time cosumming !! \n",
    "description : first it get maximum f1 among p= 1,2,4,8,16,32,64,128,256,512,1024\n",
    "             assume p=128 we get max\n",
    "             second it get maximum f1 among \n",
    "             \n",
    "\n",
    "$$p= 2^{6.5},\\cdots,2^{7},\\cdots,2^{7.5}$$ \n",
    "         \n",
    "         \n",
    "\n",
    "assume\n",
    "             \n",
    "             \n",
    "$$p=2^{7.25}$$\n",
    "             \n",
    "             \n",
    " we get max\n",
    " third it get maxium f1 among \n",
    "\n",
    "             \n",
    "$$p = 2^{7.25-\\frac{0.5}{16}},\\cdots,2^{7.25},\\cdots,2^{7.25+\\frac{0.5}{16}}$$\n",
    "             \n",
    "\n",
    "assume \n",
    "\n",
    "\n",
    "$$p=2^{7.28125}$$\n",
    "             \n",
    "\n",
    "we get max \n",
    " last it get maximum f1 among\n",
    "\n",
    "\n",
    "$$p=  2^{7.28125-\\frac{0.5}{256}},\\cdots,2^{7.25},\\cdots,2^{7.28125+\\frac{0.5}{256}}$$\n",
    "\n",
    "\n",
    "\n",
    "number of caculation : 64times ( each level it train and evaluation 16times ) "
   ]
  },
  {
   "cell_type": "code",
   "execution_count": 12,
   "metadata": {},
   "outputs": [
    {
     "name": "stdout",
     "output_type": "stream",
     "text": [
      "0.09023415191319246\n",
      "0.026774847870182555\n",
      "0.02906208718626156\n",
      "0.04940119760479042\n",
      "0.41765071472964577\n",
      "0.7336860670194003\n",
      "0.8478260869565217\n",
      "0.9085239085239085\n",
      "0.9276248725790011\n",
      "0.9376278118609407\n",
      "0.9340153452685422\n",
      "0.9361919346605411\n",
      "0.9375\n",
      "0.9381074168797954\n",
      "0.9355828220858896\n",
      "0.9376278118609407\n",
      "0.9376915219611849\n",
      "0.9381074168797954\n",
      "0.9371486969851814\n",
      "0.9361919346605411\n",
      "0.9400307534597643\n",
      "0.93900563813429\n",
      "0.9379805228088159\n",
      "0.9395491803278688\n",
      "0.9406345957011258\n",
      "0.9381074168797954\n",
      "0.9359959037378393\n",
      "0.9364754098360656\n",
      "0.934560327198364\n",
      "0.9355168884339816\n",
      "0.9406345957011258\n",
      "0.9406345957011258\n",
      "0.9406345957011258\n",
      "0.9406345957011258\n",
      "0.9406345957011258\n",
      "0.9406345957011258\n",
      "0.9406345957011258\n",
      "0.9390681003584229\n",
      "0.9390681003584229\n",
      "0.9390681003584229\n",
      "when p =441 , F_1 is largest :0.940635\n"
     ]
    },
    {
     "data": {
      "image/png": "[encoded data removed]",
      "text/plain": [
       "<Figure size 432x288 with 4 Axes>"
      ]
     },
     "metadata": {
      "needs_background": "light"
     },
     "output_type": "display_data"
    }
   ],
   "source": [
    "f =  (lambda x : caculateF1score_among_varing_p(*getr(x)))\n",
    "TP,TN,FP,FN,F_1score,p  = train_with_varying_p_to_get_bestF1score(f)# printing '(10000,)' 64 times and get best p ... \n",
    "print(\"when p ={:d} , F_1 is largest :{:f}\".format(p,F_1score))"
   ]
  },
  {
   "cell_type": "markdown",
   "metadata": {},
   "source": [
    "# Plot the average image (28 X 28)"
   ]
  },
  {
   "cell_type": "code",
   "execution_count": 18,
   "metadata": {},
   "outputs": [],
   "source": [
    "\n",
    "def draw_average(condition,title):\n",
    "    f2 = plt.figure()\n",
    "    im_average  = np.zeros((size_row * size_col), dtype=float)\n",
    "    im_count    = 0\n",
    "    for i in range(num_test):\n",
    "        if condition[i] : # TP TN FP FN\n",
    "            im_average += list_image_test[:, i]\n",
    "            im_count += 1 # \n",
    "\n",
    "    im_average /= im_count\n",
    "    plt.title(title)\n",
    "    plt.imshow(im_average.reshape((size_row, size_col)), \n",
    "               cmap='Greys', interpolation='None') \n",
    "    frame   = plt.gca()\n",
    "    frame.axes.get_xaxis().set_visible(False)\n",
    "    frame.axes.get_yaxis().set_visible(False)\n",
    "    plt.show()"
   ]
  },
  {
   "cell_type": "markdown",
   "metadata": {},
   "source": [
    "# plot average TP"
   ]
  },
  {
   "cell_type": "code",
   "execution_count": 19,
   "metadata": {},
   "outputs": [
    {
     "data": {
      "image/png": "[encoded data removed]",
      "text/plain": [
       "<Figure size 432x288 with 1 Axes>"
      ]
     },
     "metadata": {
      "needs_background": "light"
     },
     "output_type": "display_data"
    }
   ],
   "source": [
    "draw_average(TP,\"TP AVERAGE\") # true positive"
   ]
  },
  {
   "cell_type": "markdown",
   "metadata": {},
   "source": [
    "# plot average TN"
   ]
  },
  {
   "cell_type": "code",
   "execution_count": 20,
   "metadata": {},
   "outputs": [
    {
     "data": {
      "image/png": "[encoded data removed]",
      "text/plain": [
       "<Figure size 432x288 with 1 Axes>"
      ]
     },
     "metadata": {
      "needs_background": "light"
     },
     "output_type": "display_data"
    }
   ],
   "source": [
    "draw_average(TN,\"TN AVERAGE\") # true negative"
   ]
  },
  {
   "cell_type": "markdown",
   "metadata": {},
   "source": [
    "# plot average FP"
   ]
  },
  {
   "cell_type": "code",
   "execution_count": 21,
   "metadata": {},
   "outputs": [
    {
     "data": {
      "image/png": "[encoded data removed]",
      "text/plain": [
       "<Figure size 432x288 with 1 Axes>"
      ]
     },
     "metadata": {
      "needs_background": "light"
     },
     "output_type": "display_data"
    }
   ],
   "source": [
    "draw_average(FP,\"FP AVERAGE\") # false positive"
   ]
  },
  {
   "cell_type": "markdown",
   "metadata": {},
   "source": [
    "# plot average FN"
   ]
  },
  {
   "cell_type": "code",
   "execution_count": 22,
   "metadata": {},
   "outputs": [
    {
     "data": {
      "image/png": "[encoded data removed]",
      "text/plain": [
       "<Figure size 432x288 with 1 Axes>"
      ]
     },
     "metadata": {
      "needs_background": "light"
     },
     "output_type": "display_data"
    }
   ],
   "source": [
    "draw_average(FN,\"FN AVERAGE\") #false negative"
   ]
  },
  {
   "cell_type": "markdown",
   "metadata": {},
   "source": [
    "# when p = 441 , f1 = 0.940635 "
   ]
  },
  {
   "cell_type": "code",
   "execution_count": 23,
   "metadata": {},
   "outputs": [
    {
     "name": "stdout",
     "output_type": "stream",
     "text": [
      "Total: 10000 \n",
      "TP: 919 ,TN: 8965, FP: 55 ,FN: 61\n"
     ]
    }
   ],
   "source": [
    "print(\"Total: {:d} \\nTP: {:d} ,TN: {:d}, FP: {:d} ,FN: {:d}\".format( np.size(TP),\n",
    "    np.sum(TP),np.sum(TN),np.sum(FP),np.sum(FN)))"
   ]
  },
  {
   "cell_type": "code",
   "execution_count": null,
   "metadata": {},
   "outputs": [],
   "source": []
  }
 ],
 "metadata": {
  "kernelspec": {
   "display_name": "Python 3",
   "language": "python",
   "name": "python3"
  },
  "language_info": {
   "codemirror_mode": {
    "name": "ipython",
    "version": 3
   },
   "file_extension": ".py",
   "mimetype": "text/x-python",
   "name": "python",
   "nbconvert_exporter": "python",
   "pygments_lexer": "ipython3",
   "version": "3.7.0"
  }
 },
 "nbformat": 4,
 "nbformat_minor": 2
}
